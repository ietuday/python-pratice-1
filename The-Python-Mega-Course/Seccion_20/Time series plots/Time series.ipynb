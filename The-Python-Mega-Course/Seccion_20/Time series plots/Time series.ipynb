{
 "cells": [
  {
   "cell_type": "code",
   "execution_count": 12,
   "metadata": {},
   "outputs": [],
   "source": [
    "import pandas\n",
    "from bokeh.plotting import figure, show, output_file\n",
    "\n",
    "\n",
    "df = pandas.read_csv(\"adbe.csv\", parse_dates=[\"Date\"])\n",
    "p  = figure(width=700, height=250, x_axis_type=\"datetime\")\n",
    "\n",
    "\n",
    "p.line(df[\"Date\"],df[\"Close\"],color=\"orange\", alpha=0.5)\n",
    "p.circle(df[\"Date\"],df[\"Close\"],color=\"orange\", alpha=0.5)\n",
    "output_file(\"Timeseries.html\")\n",
    "show(p)\n",
    "\n"
   ]
  }
 ],
 "metadata": {
  "kernelspec": {
   "display_name": "Python 3",
   "language": "python",
   "name": "python3"
  },
  "language_info": {
   "codemirror_mode": {
    "name": "ipython",
    "version": 3
   },
   "file_extension": ".py",
   "mimetype": "text/x-python",
   "name": "python",
   "nbconvert_exporter": "python",
   "pygments_lexer": "ipython3",
   "version": "3.6.4"
  }
 },
 "nbformat": 4,
 "nbformat_minor": 2
}
