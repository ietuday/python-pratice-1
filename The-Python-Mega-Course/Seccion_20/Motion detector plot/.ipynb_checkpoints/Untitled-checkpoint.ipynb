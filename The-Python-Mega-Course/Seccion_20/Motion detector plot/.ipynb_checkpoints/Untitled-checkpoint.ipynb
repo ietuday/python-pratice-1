{
 "cells": [
  {
   "cell_type": "code",
   "execution_count": 1,
   "metadata": {},
   "outputs": [
    {
     "name": "stdout",
     "output_type": "stream",
     "text": [
      "[1, 1]\n",
      "[None, None, datetime.datetime(2018, 1, 7, 20, 35, 21, 922191), datetime.datetime(2018, 1, 7, 20, 35, 25, 549128), datetime.datetime(2018, 1, 7, 20, 35, 25, 803407), datetime.datetime(2018, 1, 7, 20, 35, 26, 609866), datetime.datetime(2018, 1, 7, 20, 35, 26, 750231), datetime.datetime(2018, 1, 7, 20, 35, 33, 297172)]\n"
     ]
    },
    {
     "ename": "NameError",
     "evalue": "name 'cdn' is not defined",
     "output_type": "error",
     "traceback": [
      "\u001b[1;31m---------------------------------------------------------------------------\u001b[0m",
      "\u001b[1;31mNameError\u001b[0m                                 Traceback (most recent call last)",
      "\u001b[1;32m<ipython-input-1-b6cfeddb8d84>\u001b[0m in \u001b[0;36m<module>\u001b[1;34m()\u001b[0m\n\u001b[0;32m      6\u001b[0m \u001b[1;33m\u001b[0m\u001b[0m\n\u001b[0;32m      7\u001b[0m \u001b[1;33m\u001b[0m\u001b[0m\n\u001b[1;32m----> 8\u001b[1;33m \u001b[0moutput_file\u001b[0m\u001b[1;33m(\u001b[0m\u001b[1;34m\"Graph.html\"\u001b[0m\u001b[1;33m,\u001b[0m\u001b[0mmode\u001b[0m\u001b[1;33m=\u001b[0m\u001b[0mcdn\u001b[0m\u001b[1;33m)\u001b[0m\u001b[1;33m\u001b[0m\u001b[0m\n\u001b[0m\u001b[0;32m      9\u001b[0m \u001b[1;33m\u001b[0m\u001b[0m\n\u001b[0;32m     10\u001b[0m \u001b[0mshow\u001b[0m\u001b[1;33m(\u001b[0m\u001b[0mp\u001b[0m\u001b[1;33m)\u001b[0m\u001b[1;33m\u001b[0m\u001b[0m\n",
      "\u001b[1;31mNameError\u001b[0m: name 'cdn' is not defined"
     ]
    }
   ],
   "source": [
    "from motion_detector import df\n",
    "from bokeh.plotting import figure, show, output_file\n",
    "\n",
    "p = figure(x_axis_type=\"datetime\",height=100, width=500, responsive=True, title=\"Motion Graph\")\n",
    "p.quad(left=df[\"Start\"], right=df[\"End\"], bottom=0,top=1, color=\"green\")\n",
    "\n",
    "\n",
    "output_file(\"Graph.html\",mode=\"cdn\")\n",
    "\n",
    "show(p)"
   ]
  }
 ],
 "metadata": {
  "kernelspec": {
   "display_name": "Python 3",
   "language": "python",
   "name": "python3"
  },
  "language_info": {
   "codemirror_mode": {
    "name": "ipython",
    "version": 3
   },
   "file_extension": ".py",
   "mimetype": "text/x-python",
   "name": "python",
   "nbconvert_exporter": "python",
   "pygments_lexer": "ipython3",
   "version": "3.6.4"
  }
 },
 "nbformat": 4,
 "nbformat_minor": 2
}
