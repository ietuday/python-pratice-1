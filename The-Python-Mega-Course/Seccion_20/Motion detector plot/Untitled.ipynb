{
 "cells": [
  {
   "cell_type": "code",
   "execution_count": 1,
   "metadata": {},
   "outputs": [
    {
     "name": "stdout",
     "output_type": "stream",
     "text": [
      "[0, 0]\n",
      "[None, None, datetime.datetime(2018, 1, 7, 20, 36, 43, 436979), datetime.datetime(2018, 1, 7, 20, 36, 44, 363116), datetime.datetime(2018, 1, 7, 20, 36, 44, 507290), datetime.datetime(2018, 1, 7, 20, 36, 45, 163763), datetime.datetime(2018, 1, 7, 20, 36, 46, 107198), datetime.datetime(2018, 1, 7, 20, 36, 47, 707577), datetime.datetime(2018, 1, 7, 20, 36, 47, 980299), datetime.datetime(2018, 1, 7, 20, 36, 48, 779798), datetime.datetime(2018, 1, 7, 20, 36, 49, 52296), datetime.datetime(2018, 1, 7, 20, 36, 50, 651296), datetime.datetime(2018, 1, 7, 20, 36, 51, 322864), datetime.datetime(2018, 1, 7, 20, 36, 51, 852298)]\n"
     ]
    }
   ],
   "source": [
    "from motion_detector import df\n",
    "from bokeh.plotting import figure, show, output_file\n",
    "\n",
    "p = figure(x_axis_type=\"datetime\",height=100, width=500, responsive=True, title=\"Motion Graph\")\n",
    "p.quad(left=df[\"Start\"], right=df[\"End\"], bottom=0,top=1, color=\"green\")\n",
    "\n",
    "\n",
    "output_file(\"Graph.html\",mode=\"cdn\")\n"
   ]
  },
  {
   "cell_type": "code",
   "execution_count": null,
   "metadata": {},
   "outputs": [],
   "source": [
    "p.quad?\n"
   ]
  }
 ],
 "metadata": {
  "kernelspec": {
   "display_name": "Python 3",
   "language": "python",
   "name": "python3"
  },
  "language_info": {
   "codemirror_mode": {
    "name": "ipython",
    "version": 3
   },
   "file_extension": ".py",
   "mimetype": "text/x-python",
   "name": "python",
   "nbconvert_exporter": "python",
   "pygments_lexer": "ipython3",
   "version": "3.6.4"
  }
 },
 "nbformat": 4,
 "nbformat_minor": 2
}
